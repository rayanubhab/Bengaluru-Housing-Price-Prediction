{
 "cells": [
  {
   "cell_type": "code",
   "execution_count": 1,
   "metadata": {
    "executionInfo": {
     "elapsed": 1009,
     "status": "ok",
     "timestamp": 1611513350956,
     "user": {
      "displayName": "19UCS088 Anubhab Ray",
      "photoUrl": "https://lh3.googleusercontent.com/a-/AOh14Ghy9a36Pwyp7YMi9lk-kCpbg42BwrNcNGrpjhgA=s64",
      "userId": "15438570458772171491"
     },
     "user_tz": -330
    },
    "id": "Z-N7W0Gnmttx"
   },
   "outputs": [],
   "source": [
    "import numpy as np"
   ]
  },
  {
   "cell_type": "code",
   "execution_count": 2,
   "metadata": {
    "executionInfo": {
     "elapsed": 2196,
     "status": "ok",
     "timestamp": 1611513352146,
     "user": {
      "displayName": "19UCS088 Anubhab Ray",
      "photoUrl": "https://lh3.googleusercontent.com/a-/AOh14Ghy9a36Pwyp7YMi9lk-kCpbg42BwrNcNGrpjhgA=s64",
      "userId": "15438570458772171491"
     },
     "user_tz": -330
    },
    "id": "DMXBVFzVmtt2"
   },
   "outputs": [],
   "source": [
    "import pandas as pd"
   ]
  },
  {
   "cell_type": "code",
   "execution_count": 3,
   "metadata": {
    "executionInfo": {
     "elapsed": 2195,
     "status": "ok",
     "timestamp": 1611513352147,
     "user": {
      "displayName": "19UCS088 Anubhab Ray",
      "photoUrl": "https://lh3.googleusercontent.com/a-/AOh14Ghy9a36Pwyp7YMi9lk-kCpbg42BwrNcNGrpjhgA=s64",
      "userId": "15438570458772171491"
     },
     "user_tz": -330
    },
    "id": "r7_mDCCUmtt2"
   },
   "outputs": [],
   "source": [
    "import matplotlib.pyplot as plt"
   ]
  },
  {
   "cell_type": "code",
   "execution_count": 4,
   "metadata": {
    "colab": {
     "base_uri": "https://localhost:8080/",
     "height": 73,
     "resources": {
      "http://localhost:8080/nbextensions/google.colab/files.js": {
       "data": "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",
       "headers": [
        [
         "content-type",
         "application/javascript"
        ]
       ],
       "ok": true,
       "status": 200,
       "status_text": ""
      }
     }
    },
    "executionInfo": {
     "elapsed": 34428,
     "status": "ok",
     "timestamp": 1611513384382,
     "user": {
      "displayName": "19UCS088 Anubhab Ray",
      "photoUrl": "https://lh3.googleusercontent.com/a-/AOh14Ghy9a36Pwyp7YMi9lk-kCpbg42BwrNcNGrpjhgA=s64",
      "userId": "15438570458772171491"
     },
     "user_tz": -330
    },
    "id": "R7LNn5QPq01x",
    "outputId": "f9ebdcff-e18b-421d-ddb2-f8e4f3bbf0bf"
   },
   "outputs": [
    {
     "ename": "ModuleNotFoundError",
     "evalue": "No module named 'google'",
     "output_type": "error",
     "traceback": [
      "\u001b[1;31m---------------------------------------------------------------------------\u001b[0m",
      "\u001b[1;31mModuleNotFoundError\u001b[0m                       Traceback (most recent call last)",
      "\u001b[1;32m<ipython-input-4-d2c2cbc2ac22>\u001b[0m in \u001b[0;36m<module>\u001b[1;34m\u001b[0m\n\u001b[1;32m----> 1\u001b[1;33m \u001b[1;32mfrom\u001b[0m \u001b[0mgoogle\u001b[0m\u001b[1;33m.\u001b[0m\u001b[0mcolab\u001b[0m \u001b[1;32mimport\u001b[0m \u001b[0mfiles\u001b[0m\u001b[1;33m\u001b[0m\u001b[1;33m\u001b[0m\u001b[0m\n\u001b[0m\u001b[0;32m      2\u001b[0m \u001b[0muploaded\u001b[0m \u001b[1;33m=\u001b[0m \u001b[0mfiles\u001b[0m\u001b[1;33m.\u001b[0m\u001b[0mupload\u001b[0m\u001b[1;33m(\u001b[0m\u001b[1;33m)\u001b[0m\u001b[1;33m\u001b[0m\u001b[1;33m\u001b[0m\u001b[0m\n\u001b[0;32m      3\u001b[0m \u001b[1;32mimport\u001b[0m \u001b[0mio\u001b[0m\u001b[1;33m\u001b[0m\u001b[1;33m\u001b[0m\u001b[0m\n",
      "\u001b[1;31mModuleNotFoundError\u001b[0m: No module named 'google'"
     ]
    }
   ],
   "source": [
    "from google.colab import files\n",
    "uploaded = files.upload()\n",
    "import io"
   ]
  },
  {
   "cell_type": "code",
   "execution_count": null,
   "metadata": {
    "executionInfo": {
     "elapsed": 34435,
     "status": "ok",
     "timestamp": 1611513384390,
     "user": {
      "displayName": "19UCS088 Anubhab Ray",
      "photoUrl": "https://lh3.googleusercontent.com/a-/AOh14Ghy9a36Pwyp7YMi9lk-kCpbg42BwrNcNGrpjhgA=s64",
      "userId": "15438570458772171491"
     },
     "user_tz": -330
    },
    "id": "PH0FV91qmtt3"
   },
   "outputs": [],
   "source": [
    "##change the size of a figure in matplotlib in which the width and height ratio will be 20:10\n",
    "plt.rcParams[\"figure.figsize\"] = [20, 10]"
   ]
  },
  {
   "cell_type": "code",
   "execution_count": null,
   "metadata": {
    "executionInfo": {
     "elapsed": 34417,
     "status": "ok",
     "timestamp": 1611513384391,
     "user": {
      "displayName": "19UCS088 Anubhab Ray",
      "photoUrl": "https://lh3.googleusercontent.com/a-/AOh14Ghy9a36Pwyp7YMi9lk-kCpbg42BwrNcNGrpjhgA=s64",
      "userId": "15438570458772171491"
     },
     "user_tz": -330
    },
    "id": "CsGbzJLTmtt3"
   },
   "outputs": [],
   "source": [
    "df1=pd.read_csv(io.BytesIO(uploaded[\"Bengaluru_House_Data.csv\"]))"
   ]
  },
  {
   "cell_type": "code",
   "execution_count": null,
   "metadata": {
    "colab": {
     "base_uri": "https://localhost:8080/",
     "height": 195
    },
    "executionInfo": {
     "elapsed": 34415,
     "status": "ok",
     "timestamp": 1611513384391,
     "user": {
      "displayName": "19UCS088 Anubhab Ray",
      "photoUrl": "https://lh3.googleusercontent.com/a-/AOh14Ghy9a36Pwyp7YMi9lk-kCpbg42BwrNcNGrpjhgA=s64",
      "userId": "15438570458772171491"
     },
     "user_tz": -330
    },
    "id": "ac_alC-imtt3",
    "outputId": "36d2a28a-d7fd-4ad0-d37b-e85d4b134445"
   },
   "outputs": [],
   "source": [
    "df1.head()"
   ]
  },
  {
   "cell_type": "code",
   "execution_count": null,
   "metadata": {
    "colab": {
     "base_uri": "https://localhost:8080/"
    },
    "executionInfo": {
     "elapsed": 34414,
     "status": "ok",
     "timestamp": 1611513384392,
     "user": {
      "displayName": "19UCS088 Anubhab Ray",
      "photoUrl": "https://lh3.googleusercontent.com/a-/AOh14Ghy9a36Pwyp7YMi9lk-kCpbg42BwrNcNGrpjhgA=s64",
      "userId": "15438570458772171491"
     },
     "user_tz": -330
    },
    "id": "eraI_Z1Emtt4",
    "outputId": "7d6352ad-776c-480c-a14f-6044316bc87a"
   },
   "outputs": [],
   "source": [
    "df1.shape"
   ]
  },
  {
   "cell_type": "code",
   "execution_count": null,
   "metadata": {
    "colab": {
     "base_uri": "https://localhost:8080/"
    },
    "executionInfo": {
     "elapsed": 34413,
     "status": "ok",
     "timestamp": 1611513384392,
     "user": {
      "displayName": "19UCS088 Anubhab Ray",
      "photoUrl": "https://lh3.googleusercontent.com/a-/AOh14Ghy9a36Pwyp7YMi9lk-kCpbg42BwrNcNGrpjhgA=s64",
      "userId": "15438570458772171491"
     },
     "user_tz": -330
    },
    "id": "MDtUbd3Umtt4",
    "outputId": "b253e385-390c-4bd2-8bfa-95807713ba29"
   },
   "outputs": [],
   "source": [
    "#count samples in each of area type categories\n",
    "df1.groupby('area_type')['area_type'].agg('count')"
   ]
  },
  {
   "cell_type": "code",
   "execution_count": null,
   "metadata": {
    "executionInfo": {
     "elapsed": 34412,
     "status": "ok",
     "timestamp": 1611513384393,
     "user": {
      "displayName": "19UCS088 Anubhab Ray",
      "photoUrl": "https://lh3.googleusercontent.com/a-/AOh14Ghy9a36Pwyp7YMi9lk-kCpbg42BwrNcNGrpjhgA=s64",
      "userId": "15438570458772171491"
     },
     "user_tz": -330
    },
    "id": "7g6vzNlkmtt5"
   },
   "outputs": [],
   "source": [
    "##Drop certain columns which are not so important in determining the price\n",
    "df2=df1.drop(['availability','society','balcony','area_type'],axis='columns')"
   ]
  },
  {
   "cell_type": "code",
   "execution_count": null,
   "metadata": {
    "colab": {
     "base_uri": "https://localhost:8080/",
     "height": 195
    },
    "executionInfo": {
     "elapsed": 34411,
     "status": "ok",
     "timestamp": 1611513384393,
     "user": {
      "displayName": "19UCS088 Anubhab Ray",
      "photoUrl": "https://lh3.googleusercontent.com/a-/AOh14Ghy9a36Pwyp7YMi9lk-kCpbg42BwrNcNGrpjhgA=s64",
      "userId": "15438570458772171491"
     },
     "user_tz": -330
    },
    "id": "x4aNWmmhmtt5",
    "outputId": "82225e94-956c-4efa-c812-b204b3d7515d"
   },
   "outputs": [],
   "source": [
    "df2.head()"
   ]
  },
  {
   "cell_type": "code",
   "execution_count": null,
   "metadata": {
    "colab": {
     "base_uri": "https://localhost:8080/"
    },
    "executionInfo": {
     "elapsed": 34410,
     "status": "ok",
     "timestamp": 1611513384394,
     "user": {
      "displayName": "19UCS088 Anubhab Ray",
      "photoUrl": "https://lh3.googleusercontent.com/a-/AOh14Ghy9a36Pwyp7YMi9lk-kCpbg42BwrNcNGrpjhgA=s64",
      "userId": "15438570458772171491"
     },
     "user_tz": -330
    },
    "id": "Pk3BALeImtt5",
    "outputId": "09a69ff0-74ea-46b2-b28a-0a81672f5f22"
   },
   "outputs": [],
   "source": [
    "##Tells you the number of rows where a particular column value is NA\n",
    "df2.isnull().sum()"
   ]
  },
  {
   "cell_type": "code",
   "execution_count": null,
   "metadata": {
    "colab": {
     "base_uri": "https://localhost:8080/"
    },
    "executionInfo": {
     "elapsed": 34410,
     "status": "ok",
     "timestamp": 1611513384395,
     "user": {
      "displayName": "19UCS088 Anubhab Ray",
      "photoUrl": "https://lh3.googleusercontent.com/a-/AOh14Ghy9a36Pwyp7YMi9lk-kCpbg42BwrNcNGrpjhgA=s64",
      "userId": "15438570458772171491"
     },
     "user_tz": -330
    },
    "id": "ZeV-8DIdmtt6",
    "outputId": "1b4582cf-c2b8-4fe3-cb97-5701d848290e"
   },
   "outputs": [],
   "source": [
    "##Dropping all the rows where data is NA\n",
    "df3=df2.dropna()\n",
    "df3.isnull().sum()"
   ]
  },
  {
   "cell_type": "code",
   "execution_count": null,
   "metadata": {
    "colab": {
     "base_uri": "https://localhost:8080/"
    },
    "executionInfo": {
     "elapsed": 34408,
     "status": "ok",
     "timestamp": 1611513384395,
     "user": {
      "displayName": "19UCS088 Anubhab Ray",
      "photoUrl": "https://lh3.googleusercontent.com/a-/AOh14Ghy9a36Pwyp7YMi9lk-kCpbg42BwrNcNGrpjhgA=s64",
      "userId": "15438570458772171491"
     },
     "user_tz": -330
    },
    "id": "Ew4J5wyBmtt6",
    "outputId": "3a10e13c-5cf0-4ec5-bc71-6fc521e8f18e"
   },
   "outputs": [],
   "source": [
    "##Returns a pandas series which contains all the unique values of the column size\n",
    "df3['size'].unique()"
   ]
  },
  {
   "cell_type": "code",
   "execution_count": null,
   "metadata": {
    "colab": {
     "base_uri": "https://localhost:8080/"
    },
    "executionInfo": {
     "elapsed": 34408,
     "status": "ok",
     "timestamp": 1611513384396,
     "user": {
      "displayName": "19UCS088 Anubhab Ray",
      "photoUrl": "https://lh3.googleusercontent.com/a-/AOh14Ghy9a36Pwyp7YMi9lk-kCpbg42BwrNcNGrpjhgA=s64",
      "userId": "15438570458772171491"
     },
     "user_tz": -330
    },
    "id": "2Gqp-SJcmtt6",
    "outputId": "4c79f337-fcce-45fb-92ef-a6fd87df8d77"
   },
   "outputs": [],
   "source": [
    "##Basically BHK and bedroom is same so we split the string on the basis of space and take the first token i.e the number and keep in a new column\n",
    "df3['bhk'] = df3['size'].apply(lambda x: int(x.split(' ')[0]))\n"
   ]
  },
  {
   "cell_type": "code",
   "execution_count": null,
   "metadata": {
    "colab": {
     "base_uri": "https://localhost:8080/",
     "height": 195
    },
    "executionInfo": {
     "elapsed": 34406,
     "status": "ok",
     "timestamp": 1611513384396,
     "user": {
      "displayName": "19UCS088 Anubhab Ray",
      "photoUrl": "https://lh3.googleusercontent.com/a-/AOh14Ghy9a36Pwyp7YMi9lk-kCpbg42BwrNcNGrpjhgA=s64",
      "userId": "15438570458772171491"
     },
     "user_tz": -330
    },
    "id": "GBhgcJ6omtt6",
    "outputId": "a8d6edee-733f-47ac-a5d5-362c53fd14ca"
   },
   "outputs": [],
   "source": [
    "df3.head()"
   ]
  },
  {
   "cell_type": "code",
   "execution_count": null,
   "metadata": {
    "colab": {
     "base_uri": "https://localhost:8080/"
    },
    "executionInfo": {
     "elapsed": 34404,
     "status": "ok",
     "timestamp": 1611513384397,
     "user": {
      "displayName": "19UCS088 Anubhab Ray",
      "photoUrl": "https://lh3.googleusercontent.com/a-/AOh14Ghy9a36Pwyp7YMi9lk-kCpbg42BwrNcNGrpjhgA=s64",
      "userId": "15438570458772171491"
     },
     "user_tz": -330
    },
    "id": "WD7IzzbJmtt7",
    "outputId": "e17cd0c3-189f-4f05-a71e-be65971b4252"
   },
   "outputs": [],
   "source": [
    "df3['bhk'].unique()"
   ]
  },
  {
   "cell_type": "code",
   "execution_count": null,
   "metadata": {
    "colab": {
     "base_uri": "https://localhost:8080/",
     "height": 106
    },
    "executionInfo": {
     "elapsed": 34403,
     "status": "ok",
     "timestamp": 1611513384397,
     "user": {
      "displayName": "19UCS088 Anubhab Ray",
      "photoUrl": "https://lh3.googleusercontent.com/a-/AOh14Ghy9a36Pwyp7YMi9lk-kCpbg42BwrNcNGrpjhgA=s64",
      "userId": "15438570458772171491"
     },
     "user_tz": -330
    },
    "id": "-Viy8jT2mtt7",
    "outputId": "e9b3e99c-2757-41e1-e10b-3c282f40f1a2"
   },
   "outputs": [],
   "source": [
    "df3[df3['bhk']>20]"
   ]
  },
  {
   "cell_type": "code",
   "execution_count": null,
   "metadata": {
    "colab": {
     "base_uri": "https://localhost:8080/"
    },
    "executionInfo": {
     "elapsed": 34403,
     "status": "ok",
     "timestamp": 1611513384398,
     "user": {
      "displayName": "19UCS088 Anubhab Ray",
      "photoUrl": "https://lh3.googleusercontent.com/a-/AOh14Ghy9a36Pwyp7YMi9lk-kCpbg42BwrNcNGrpjhgA=s64",
      "userId": "15438570458772171491"
     },
     "user_tz": -330
    },
    "id": "3ck-0BlDmtt7",
    "outputId": "a937599d-71b0-4b08-d140-e33914276416"
   },
   "outputs": [],
   "source": [
    "df3['total_sqft'].unique()"
   ]
  },
  {
   "cell_type": "code",
   "execution_count": null,
   "metadata": {
    "executionInfo": {
     "elapsed": 35262,
     "status": "ok",
     "timestamp": 1611513385259,
     "user": {
      "displayName": "19UCS088 Anubhab Ray",
      "photoUrl": "https://lh3.googleusercontent.com/a-/AOh14Ghy9a36Pwyp7YMi9lk-kCpbg42BwrNcNGrpjhgA=s64",
      "userId": "15438570458772171491"
     },
     "user_tz": -330
    },
    "id": "oDcVzwRHmtt7"
   },
   "outputs": [],
   "source": [
    "## function to Determine whether a given value is float or not in the total_sqft column\n",
    "\n",
    "def is_float(x):\n",
    "    try:\n",
    "        float(x)\n",
    "    except:\n",
    "        return False\n",
    "    return True"
   ]
  },
  {
   "cell_type": "code",
   "execution_count": null,
   "metadata": {
    "colab": {
     "base_uri": "https://localhost:8080/",
     "height": 195
    },
    "executionInfo": {
     "elapsed": 35262,
     "status": "ok",
     "timestamp": 1611513385260,
     "user": {
      "displayName": "19UCS088 Anubhab Ray",
      "photoUrl": "https://lh3.googleusercontent.com/a-/AOh14Ghy9a36Pwyp7YMi9lk-kCpbg42BwrNcNGrpjhgA=s64",
      "userId": "15438570458772171491"
     },
     "user_tz": -330
    },
    "id": "9CFC3W2Omtt7",
    "outputId": "f6bd08eb-8fb0-4a7e-d36d-92f075dbd61c"
   },
   "outputs": [],
   "source": [
    "## ~(negate)operation which returns the rows which are not float\n",
    "df3[~df3['total_sqft'].apply(is_float)].head()"
   ]
  },
  {
   "cell_type": "code",
   "execution_count": null,
   "metadata": {
    "executionInfo": {
     "elapsed": 35261,
     "status": "ok",
     "timestamp": 1611513385260,
     "user": {
      "displayName": "19UCS088 Anubhab Ray",
      "photoUrl": "https://lh3.googleusercontent.com/a-/AOh14Ghy9a36Pwyp7YMi9lk-kCpbg42BwrNcNGrpjhgA=s64",
      "userId": "15438570458772171491"
     },
     "user_tz": -330
    },
    "id": "jPBamVX7mtt8"
   },
   "outputs": [],
   "source": [
    "##Function which splits those rows having sqft values in range on the basis of '_' and takes the mean of the two tokens\n",
    "def convert_sqft_to_num(x):\n",
    "    tokens = x.split('-')\n",
    "    if len(tokens) == 2:\n",
    "        return (float(tokens[0])+float(tokens[1]))/2\n",
    "    try:\n",
    "        return float(x)\n",
    "    except:\n",
    "        return None"
   ]
  },
  {
   "cell_type": "code",
   "execution_count": null,
   "metadata": {
    "colab": {
     "base_uri": "https://localhost:8080/",
     "height": 195
    },
    "executionInfo": {
     "elapsed": 35260,
     "status": "ok",
     "timestamp": 1611513385261,
     "user": {
      "displayName": "19UCS088 Anubhab Ray",
      "photoUrl": "https://lh3.googleusercontent.com/a-/AOh14Ghy9a36Pwyp7YMi9lk-kCpbg42BwrNcNGrpjhgA=s64",
      "userId": "15438570458772171491"
     },
     "user_tz": -330
    },
    "id": "pYl_jWiDmtt8",
    "outputId": "d042683e-7fd2-478f-c45e-a48a7f985f93"
   },
   "outputs": [],
   "source": [
    "##Create a new data frame and apply this function on the total_sqft column\n",
    "df4 = df3.copy()\n",
    "df4['total_sqft'] = df4['total_sqft'].apply(convert_sqft_to_num)\n",
    "df4.head()"
   ]
  },
  {
   "cell_type": "code",
   "execution_count": null,
   "metadata": {
    "colab": {
     "base_uri": "https://localhost:8080/",
     "height": 343
    },
    "executionInfo": {
     "elapsed": 35259,
     "status": "ok",
     "timestamp": 1611513385261,
     "user": {
      "displayName": "19UCS088 Anubhab Ray",
      "photoUrl": "https://lh3.googleusercontent.com/a-/AOh14Ghy9a36Pwyp7YMi9lk-kCpbg42BwrNcNGrpjhgA=s64",
      "userId": "15438570458772171491"
     },
     "user_tz": -330
    },
    "id": "51O6ypkSmtt8",
    "outputId": "bb453ce4-599d-41bb-f36f-a4a7f41631f8"
   },
   "outputs": [],
   "source": [
    "df4.head(10)"
   ]
  },
  {
   "cell_type": "code",
   "execution_count": null,
   "metadata": {
    "executionInfo": {
     "elapsed": 35259,
     "status": "ok",
     "timestamp": 1611513385262,
     "user": {
      "displayName": "19UCS088 Anubhab Ray",
      "photoUrl": "https://lh3.googleusercontent.com/a-/AOh14Ghy9a36Pwyp7YMi9lk-kCpbg42BwrNcNGrpjhgA=s64",
      "userId": "15438570458772171491"
     },
     "user_tz": -330
    },
    "id": "9EGrPpFZmtt8"
   },
   "outputs": [],
   "source": [
    "#Feature engineering: Add new feature called price_per_sqft"
   ]
  },
  {
   "cell_type": "code",
   "execution_count": null,
   "metadata": {
    "colab": {
     "base_uri": "https://localhost:8080/",
     "height": 195
    },
    "executionInfo": {
     "elapsed": 35257,
     "status": "ok",
     "timestamp": 1611513385262,
     "user": {
      "displayName": "19UCS088 Anubhab Ray",
      "photoUrl": "https://lh3.googleusercontent.com/a-/AOh14Ghy9a36Pwyp7YMi9lk-kCpbg42BwrNcNGrpjhgA=s64",
      "userId": "15438570458772171491"
     },
     "user_tz": -330
    },
    "id": "-ocxI3E6mtt9",
    "outputId": "696f7c00-c287-4030-f9ac-b18c357a1bf2"
   },
   "outputs": [],
   "source": [
    "df5=df4.copy()\n",
    "df5['price_per_sqft']=df5['price']*100000/df5['total_sqft']\n",
    "df5.head()"
   ]
  },
  {
   "cell_type": "code",
   "execution_count": null,
   "metadata": {
    "colab": {
     "base_uri": "https://localhost:8080/"
    },
    "executionInfo": {
     "elapsed": 35257,
     "status": "ok",
     "timestamp": 1611513385263,
     "user": {
      "displayName": "19UCS088 Anubhab Ray",
      "photoUrl": "https://lh3.googleusercontent.com/a-/AOh14Ghy9a36Pwyp7YMi9lk-kCpbg42BwrNcNGrpjhgA=s64",
      "userId": "15438570458772171491"
     },
     "user_tz": -330
    },
    "id": "f6JZdpFqmtt9",
    "outputId": "cf0ffa9e-c759-40f3-dd3d-0c583e2b5049"
   },
   "outputs": [],
   "source": [
    "len(df5['location'].unique())"
   ]
  },
  {
   "cell_type": "code",
   "execution_count": null,
   "metadata": {
    "colab": {
     "base_uri": "https://localhost:8080/"
    },
    "executionInfo": {
     "elapsed": 35255,
     "status": "ok",
     "timestamp": 1611513385263,
     "user": {
      "displayName": "19UCS088 Anubhab Ray",
      "photoUrl": "https://lh3.googleusercontent.com/a-/AOh14Ghy9a36Pwyp7YMi9lk-kCpbg42BwrNcNGrpjhgA=s64",
      "userId": "15438570458772171491"
     },
     "user_tz": -330
    },
    "id": "yT1__QDimtt9",
    "outputId": "79a5e332-4e34-4330-f1c6-5095a889f1b3"
   },
   "outputs": [],
   "source": [
    "##Strip extra leading or trailing spaces from location to make it clean\n",
    "df5['location'] = df5['location'].apply(lambda x : x.strip())\n",
    "##Grouping and arranging the data points in ascending order\n",
    "location_stats = df5.groupby('location')['location'].agg('count').sort_values(ascending=False)\n",
    "location_stats"
   ]
  },
  {
   "cell_type": "code",
   "execution_count": null,
   "metadata": {
    "colab": {
     "base_uri": "https://localhost:8080/"
    },
    "executionInfo": {
     "elapsed": 35255,
     "status": "ok",
     "timestamp": 1611513385264,
     "user": {
      "displayName": "19UCS088 Anubhab Ray",
      "photoUrl": "https://lh3.googleusercontent.com/a-/AOh14Ghy9a36Pwyp7YMi9lk-kCpbg42BwrNcNGrpjhgA=s64",
      "userId": "15438570458772171491"
     },
     "user_tz": -330
    },
    "id": "e9IkGaU0mtt9",
    "outputId": "d6d37327-7eda-4068-8d23-19304d3e39ba"
   },
   "outputs": [],
   "source": [
    "len(location_stats[location_stats<=10])"
   ]
  },
  {
   "cell_type": "code",
   "execution_count": null,
   "metadata": {
    "executionInfo": {
     "elapsed": 35254,
     "status": "ok",
     "timestamp": 1611513385264,
     "user": {
      "displayName": "19UCS088 Anubhab Ray",
      "photoUrl": "https://lh3.googleusercontent.com/a-/AOh14Ghy9a36Pwyp7YMi9lk-kCpbg42BwrNcNGrpjhgA=s64",
      "userId": "15438570458772171491"
     },
     "user_tz": -330
    },
    "id": "3LCj6NrFmtt9"
   },
   "outputs": [],
   "source": [
    "#Grouping locations having less than 10 data points (rows) into a category called 'other'\n",
    "#Dimensionality Reduction\n",
    "#Any location having less than 10 data points should be tagged as \"other\" location. This way number of categories can be reduced by huge amount. Later on when we do one hot encoding, it will help us with having fewer dummy columns\n",
    "\n",
    "location_stats_less_than_10 = location_stats[location_stats<=10]"
   ]
  },
  {
   "cell_type": "code",
   "execution_count": null,
   "metadata": {
    "executionInfo": {
     "elapsed": 35253,
     "status": "ok",
     "timestamp": 1611513385265,
     "user": {
      "displayName": "19UCS088 Anubhab Ray",
      "photoUrl": "https://lh3.googleusercontent.com/a-/AOh14Ghy9a36Pwyp7YMi9lk-kCpbg42BwrNcNGrpjhgA=s64",
      "userId": "15438570458772171491"
     },
     "user_tz": -330
    },
    "id": "KBpunJvymtt-"
   },
   "outputs": [],
   "source": [
    "df5['location'] = df5['location'].apply(lambda x: 'other' if x in location_stats_less_than_10 else x)"
   ]
  },
  {
   "cell_type": "code",
   "execution_count": null,
   "metadata": {
    "colab": {
     "base_uri": "https://localhost:8080/"
    },
    "executionInfo": {
     "elapsed": 35252,
     "status": "ok",
     "timestamp": 1611513385265,
     "user": {
      "displayName": "19UCS088 Anubhab Ray",
      "photoUrl": "https://lh3.googleusercontent.com/a-/AOh14Ghy9a36Pwyp7YMi9lk-kCpbg42BwrNcNGrpjhgA=s64",
      "userId": "15438570458772171491"
     },
     "user_tz": -330
    },
    "id": "ScCkNedKmtt-",
    "outputId": "96911be7-08c4-43f9-a0b6-706e2c919449"
   },
   "outputs": [],
   "source": [
    "len(df5['location'].unique())"
   ]
  },
  {
   "cell_type": "code",
   "execution_count": null,
   "metadata": {
    "colab": {
     "base_uri": "https://localhost:8080/",
     "height": 343
    },
    "executionInfo": {
     "elapsed": 35251,
     "status": "ok",
     "timestamp": 1611513385266,
     "user": {
      "displayName": "19UCS088 Anubhab Ray",
      "photoUrl": "https://lh3.googleusercontent.com/a-/AOh14Ghy9a36Pwyp7YMi9lk-kCpbg42BwrNcNGrpjhgA=s64",
      "userId": "15438570458772171491"
     },
     "user_tz": -330
    },
    "id": "ICfDlB1Hmtt-",
    "outputId": "c91f7cd9-784c-49da-abb2-6ddca26b7be0"
   },
   "outputs": [],
   "source": [
    "df5.head(10)"
   ]
  },
  {
   "cell_type": "code",
   "execution_count": null,
   "metadata": {
    "executionInfo": {
     "elapsed": 35250,
     "status": "ok",
     "timestamp": 1611513385267,
     "user": {
      "displayName": "19UCS088 Anubhab Ray",
      "photoUrl": "https://lh3.googleusercontent.com/a-/AOh14Ghy9a36Pwyp7YMi9lk-kCpbg42BwrNcNGrpjhgA=s64",
      "userId": "15438570458772171491"
     },
     "user_tz": -330
    },
    "id": "gwxonczZmtt-"
   },
   "outputs": [],
   "source": [
    "##Outlier Removal Using Business Logic\n",
    "##As a data scientist when you have a conversation with your business manager (who has expertise in real estate), he will tell you that normally square ft per bedroom is 300 (i.e. 2 bhk apartment is minimum 600 sqft. If you have for example 400 sqft apartment with 2 bhk than that seems suspicious and can be removed as an outlier. We will remove such outliers by keeping our minimum thresold per bhk to be 300 sqft"
   ]
  },
  {
   "cell_type": "code",
   "execution_count": null,
   "metadata": {
    "colab": {
     "base_uri": "https://localhost:8080/",
     "height": 402
    },
    "executionInfo": {
     "elapsed": 35249,
     "status": "ok",
     "timestamp": 1611513385267,
     "user": {
      "displayName": "19UCS088 Anubhab Ray",
      "photoUrl": "https://lh3.googleusercontent.com/a-/AOh14Ghy9a36Pwyp7YMi9lk-kCpbg42BwrNcNGrpjhgA=s64",
      "userId": "15438570458772171491"
     },
     "user_tz": -330
    },
    "id": "W3vbSymZmtt_",
    "outputId": "404f29d1-e5f2-4229-8300-c98c4bc33458"
   },
   "outputs": [],
   "source": [
    "df5[df5['total_sqft']/df5['bhk']<300]"
   ]
  },
  {
   "cell_type": "code",
   "execution_count": null,
   "metadata": {
    "executionInfo": {
     "elapsed": 35249,
     "status": "ok",
     "timestamp": 1611513385268,
     "user": {
      "displayName": "19UCS088 Anubhab Ray",
      "photoUrl": "https://lh3.googleusercontent.com/a-/AOh14Ghy9a36Pwyp7YMi9lk-kCpbg42BwrNcNGrpjhgA=s64",
      "userId": "15438570458772171491"
     },
     "user_tz": -330
    },
    "id": "6K0HU_zXmtt_"
   },
   "outputs": [],
   "source": [
    "#Drop all the rows simply using negation symbol"
   ]
  },
  {
   "cell_type": "code",
   "execution_count": null,
   "metadata": {
    "executionInfo": {
     "elapsed": 35247,
     "status": "ok",
     "timestamp": 1611513385268,
     "user": {
      "displayName": "19UCS088 Anubhab Ray",
      "photoUrl": "https://lh3.googleusercontent.com/a-/AOh14Ghy9a36Pwyp7YMi9lk-kCpbg42BwrNcNGrpjhgA=s64",
      "userId": "15438570458772171491"
     },
     "user_tz": -330
    },
    "id": "21htwJ9Lmtt_"
   },
   "outputs": [],
   "source": [
    "df6 = df5[~(df5['total_sqft']/df5['bhk']<300)]"
   ]
  },
  {
   "cell_type": "code",
   "execution_count": null,
   "metadata": {
    "colab": {
     "base_uri": "https://localhost:8080/"
    },
    "executionInfo": {
     "elapsed": 35247,
     "status": "ok",
     "timestamp": 1611513385269,
     "user": {
      "displayName": "19UCS088 Anubhab Ray",
      "photoUrl": "https://lh3.googleusercontent.com/a-/AOh14Ghy9a36Pwyp7YMi9lk-kCpbg42BwrNcNGrpjhgA=s64",
      "userId": "15438570458772171491"
     },
     "user_tz": -330
    },
    "id": "8_-E1e41mtt_",
    "outputId": "01a5472c-eb47-4f3c-a421-c144bd9ee29a"
   },
   "outputs": [],
   "source": [
    "df5.shape"
   ]
  },
  {
   "cell_type": "code",
   "execution_count": null,
   "metadata": {
    "colab": {
     "base_uri": "https://localhost:8080/"
    },
    "executionInfo": {
     "elapsed": 35246,
     "status": "ok",
     "timestamp": 1611513385269,
     "user": {
      "displayName": "19UCS088 Anubhab Ray",
      "photoUrl": "https://lh3.googleusercontent.com/a-/AOh14Ghy9a36Pwyp7YMi9lk-kCpbg42BwrNcNGrpjhgA=s64",
      "userId": "15438570458772171491"
     },
     "user_tz": -330
    },
    "id": "cVCQRNi1mtt_",
    "outputId": "27bae5cc-ef11-4d59-f732-94386f8173ed"
   },
   "outputs": [],
   "source": [
    "df6.shape"
   ]
  },
  {
   "cell_type": "code",
   "execution_count": null,
   "metadata": {
    "colab": {
     "base_uri": "https://localhost:8080/"
    },
    "executionInfo": {
     "elapsed": 35245,
     "status": "ok",
     "timestamp": 1611513385270,
     "user": {
      "displayName": "19UCS088 Anubhab Ray",
      "photoUrl": "https://lh3.googleusercontent.com/a-/AOh14Ghy9a36Pwyp7YMi9lk-kCpbg42BwrNcNGrpjhgA=s64",
      "userId": "15438570458772171491"
     },
     "user_tz": -330
    },
    "id": "TRPZSAqGmtt_",
    "outputId": "1b01d722-7173-4533-f6c5-d7e5de74f0ec"
   },
   "outputs": [],
   "source": [
    "df6['price_per_sqft'].describe()"
   ]
  },
  {
   "cell_type": "code",
   "execution_count": null,
   "metadata": {
    "executionInfo": {
     "elapsed": 35244,
     "status": "ok",
     "timestamp": 1611513385270,
     "user": {
      "displayName": "19UCS088 Anubhab Ray",
      "photoUrl": "https://lh3.googleusercontent.com/a-/AOh14Ghy9a36Pwyp7YMi9lk-kCpbg42BwrNcNGrpjhgA=s64",
      "userId": "15438570458772171491"
     },
     "user_tz": -330
    },
    "id": "khU-BDEgmtuA"
   },
   "outputs": [],
   "source": [
    "#Removing the extreme cases i.e the properties having extremely high and extremely low prices because we are buiding a generic model"
   ]
  },
  {
   "cell_type": "code",
   "execution_count": null,
   "metadata": {
    "colab": {
     "base_uri": "https://localhost:8080/"
    },
    "executionInfo": {
     "elapsed": 35619,
     "status": "ok",
     "timestamp": 1611513385647,
     "user": {
      "displayName": "19UCS088 Anubhab Ray",
      "photoUrl": "https://lh3.googleusercontent.com/a-/AOh14Ghy9a36Pwyp7YMi9lk-kCpbg42BwrNcNGrpjhgA=s64",
      "userId": "15438570458772171491"
     },
     "user_tz": -330
    },
    "id": "LKhHIkqMmtuA",
    "outputId": "74c7fb41-a84e-43de-d0f5-1eb1fe5a95c2"
   },
   "outputs": [],
   "source": [
    "#Function which removes outliers per location using mean and one standard deviation\n",
    "def remove_pps_outliers(df):\n",
    "    df_out = pd.DataFrame()\n",
    "    for key, subdf in df.groupby('location'):\n",
    "        m = np.mean(subdf.price_per_sqft)\n",
    "        st = np.std(subdf.price_per_sqft)\n",
    "        reduced_df = subdf[(subdf.price_per_sqft>(m-st)) & (subdf.price_per_sqft<=(m+st))]\n",
    "        df_out = pd.concat([df_out,reduced_df],ignore_index=True)\n",
    "    return df_out\n",
    "df7 = remove_pps_outliers(df6)\n",
    "df7.shape"
   ]
  },
  {
   "cell_type": "code",
   "execution_count": null,
   "metadata": {
    "executionInfo": {
     "elapsed": 35619,
     "status": "ok",
     "timestamp": 1611513385648,
     "user": {
      "displayName": "19UCS088 Anubhab Ray",
      "photoUrl": "https://lh3.googleusercontent.com/a-/AOh14Ghy9a36Pwyp7YMi9lk-kCpbg42BwrNcNGrpjhgA=s64",
      "userId": "15438570458772171491"
     },
     "user_tz": -330
    },
    "id": "PvW0d9WQmtuA"
   },
   "outputs": [],
   "source": [
    "#Function which visualises how many data points are there in which the prices of 2BHK apartments are more than that of 3 BHKs"
   ]
  },
  {
   "cell_type": "code",
   "execution_count": null,
   "metadata": {
    "colab": {
     "base_uri": "https://localhost:8080/",
     "height": 621
    },
    "executionInfo": {
     "elapsed": 36296,
     "status": "ok",
     "timestamp": 1611513386326,
     "user": {
      "displayName": "19UCS088 Anubhab Ray",
      "photoUrl": "https://lh3.googleusercontent.com/a-/AOh14Ghy9a36Pwyp7YMi9lk-kCpbg42BwrNcNGrpjhgA=s64",
      "userId": "15438570458772171491"
     },
     "user_tz": -330
    },
    "id": "A2lxXdbnmtuA",
    "outputId": "058ed350-adbf-4fe8-d6c4-75578136f395"
   },
   "outputs": [],
   "source": [
    "\n",
    "def plot_scatter_chart(df,location):\n",
    "    bhk2 = df[(df.location==location) & (df.bhk==2)]\n",
    "    bhk3 = df[(df.location==location) & (df.bhk==3)]\n",
    "    plt.rcParams['figure.figsize'] = (15,10)\n",
    "    plt.scatter(bhk2.total_sqft,bhk2.price,color='blue',label='2 BHK', s=50)\n",
    "    plt.scatter(bhk3.total_sqft,bhk3.price,marker='+', color='green',label='3 BHK', s=50)\n",
    "    plt.xlabel(\"Total Square Feet Area\")\n",
    "    plt.ylabel(\"Price (Lakh Indian Rupees)\")\n",
    "    plt.title(location)\n",
    "    plt.legend()\n",
    "    \n",
    "plot_scatter_chart(df7,\"Rajaji Nagar\")\n"
   ]
  },
  {
   "cell_type": "markdown",
   "metadata": {
    "id": "QUn2jH6amtuA"
   },
   "source": [
    "\n",
    "We should also remove properties where for same location, the price of (for example) 3 bedroom apartment is less than 2 bedroom apartment (with same square ft area). What we will do is for a given location, we will build a dictionary of stats per bhk, i.e.\n",
    "\n",
    "{\n",
    "    '1' : {\n",
    "        'mean': 4000,\n",
    "        'std: 2000,\n",
    "        'count': 34\n",
    "    },\n",
    "    '2' : {\n",
    "        'mean': 4300,\n",
    "        'std: 2300,\n",
    "        'count': 22\n",
    "    },    \n",
    "}"
   ]
  },
  {
   "cell_type": "code",
   "execution_count": null,
   "metadata": {
    "executionInfo": {
     "elapsed": 36295,
     "status": "ok",
     "timestamp": 1611513386327,
     "user": {
      "displayName": "19UCS088 Anubhab Ray",
      "photoUrl": "https://lh3.googleusercontent.com/a-/AOh14Ghy9a36Pwyp7YMi9lk-kCpbg42BwrNcNGrpjhgA=s64",
      "userId": "15438570458772171491"
     },
     "user_tz": -330
    },
    "id": "xIuFJbVymtuB"
   },
   "outputs": [],
   "source": [
    "#Now we can remove those 2 BHK apartments whose price_per_sqft is less than mean price_per_sqft of 1 BHK apartment"
   ]
  },
  {
   "cell_type": "code",
   "execution_count": null,
   "metadata": {
    "colab": {
     "base_uri": "https://localhost:8080/"
    },
    "executionInfo": {
     "elapsed": 36692,
     "status": "ok",
     "timestamp": 1611513386725,
     "user": {
      "displayName": "19UCS088 Anubhab Ray",
      "photoUrl": "https://lh3.googleusercontent.com/a-/AOh14Ghy9a36Pwyp7YMi9lk-kCpbg42BwrNcNGrpjhgA=s64",
      "userId": "15438570458772171491"
     },
     "user_tz": -330
    },
    "id": "Jwzz9dnzmtuB",
    "outputId": "bfb52e8c-b116-41af-fe32-da6d3ea883d3"
   },
   "outputs": [],
   "source": [
    "def remove_bhk_outliers(df):\n",
    "    exclude_indices = np.array([])\n",
    "    for location, location_df in df.groupby('location'):\n",
    "        bhk_stats = {}\n",
    "        for bhk, bhk_df in location_df.groupby('bhk'):\n",
    "            bhk_stats[bhk] = {\n",
    "                'mean': np.mean(bhk_df.price_per_sqft),\n",
    "                'std': np.std(bhk_df.price_per_sqft),\n",
    "                'count': bhk_df.shape[0]\n",
    "            }\n",
    "        for bhk, bhk_df in location_df.groupby('bhk'):\n",
    "            stats = bhk_stats.get(bhk-1)\n",
    "            if stats and stats['count']>5:\n",
    "                exclude_indices = np.append(exclude_indices, bhk_df[bhk_df.price_per_sqft<(stats['mean'])].index.values)\n",
    "    return df.drop(exclude_indices,axis='index')\n",
    "df8 = remove_bhk_outliers(df7)\n",
    "# df8 = df7.copy()\n",
    "df8.shape"
   ]
  },
  {
   "cell_type": "code",
   "execution_count": null,
   "metadata": {
    "colab": {
     "base_uri": "https://localhost:8080/",
     "height": 621
    },
    "executionInfo": {
     "elapsed": 37294,
     "status": "ok",
     "timestamp": 1611513387328,
     "user": {
      "displayName": "19UCS088 Anubhab Ray",
      "photoUrl": "https://lh3.googleusercontent.com/a-/AOh14Ghy9a36Pwyp7YMi9lk-kCpbg42BwrNcNGrpjhgA=s64",
      "userId": "15438570458772171491"
     },
     "user_tz": -330
    },
    "id": "VVu3hIwumtuB",
    "outputId": "d72ea285-6a9f-4bf6-cb40-b0e398e90d6c"
   },
   "outputs": [],
   "source": [
    "plot_scatter_chart(df8,\"Rajaji Nagar\")"
   ]
  },
  {
   "cell_type": "code",
   "execution_count": null,
   "metadata": {
    "colab": {
     "base_uri": "https://localhost:8080/",
     "height": 623
    },
    "executionInfo": {
     "elapsed": 37293,
     "status": "ok",
     "timestamp": 1611513387329,
     "user": {
      "displayName": "19UCS088 Anubhab Ray",
      "photoUrl": "https://lh3.googleusercontent.com/a-/AOh14Ghy9a36Pwyp7YMi9lk-kCpbg42BwrNcNGrpjhgA=s64",
      "userId": "15438570458772171491"
     },
     "user_tz": -330
    },
    "id": "I8Zp2MrrmtuC",
    "outputId": "97ecddcc-8d64-4466-a65d-965ac0ec6f34"
   },
   "outputs": [],
   "source": [
    "import matplotlib\n",
    "matplotlib.rcParams[\"figure.figsize\"] = (20,10)\n",
    "plt.hist(df8.price_per_sqft,rwidth=0.8)\n",
    "plt.xlabel(\"Price Per Square Feet\")\n",
    "plt.ylabel(\"Count\")"
   ]
  },
  {
   "cell_type": "code",
   "execution_count": null,
   "metadata": {
    "colab": {
     "base_uri": "https://localhost:8080/"
    },
    "executionInfo": {
     "elapsed": 37290,
     "status": "ok",
     "timestamp": 1611513387329,
     "user": {
      "displayName": "19UCS088 Anubhab Ray",
      "photoUrl": "https://lh3.googleusercontent.com/a-/AOh14Ghy9a36Pwyp7YMi9lk-kCpbg42BwrNcNGrpjhgA=s64",
      "userId": "15438570458772171491"
     },
     "user_tz": -330
    },
    "id": "JA03IdgamtuC",
    "outputId": "e8b2283c-2bda-4d29-fc32-f89bd6a4db03"
   },
   "outputs": [],
   "source": [
    "df8['bath'].unique()"
   ]
  },
  {
   "cell_type": "code",
   "execution_count": null,
   "metadata": {
    "colab": {
     "base_uri": "https://localhost:8080/",
     "height": 195
    },
    "executionInfo": {
     "elapsed": 37754,
     "status": "ok",
     "timestamp": 1611513387794,
     "user": {
      "displayName": "19UCS088 Anubhab Ray",
      "photoUrl": "https://lh3.googleusercontent.com/a-/AOh14Ghy9a36Pwyp7YMi9lk-kCpbg42BwrNcNGrpjhgA=s64",
      "userId": "15438570458772171491"
     },
     "user_tz": -330
    },
    "id": "IvZwzq8kmtuC",
    "outputId": "07319339-27cc-417b-aa49-5a29fa413270"
   },
   "outputs": [],
   "source": [
    "df8[df8['bath']>10]"
   ]
  },
  {
   "cell_type": "code",
   "execution_count": null,
   "metadata": {
    "colab": {
     "base_uri": "https://localhost:8080/",
     "height": 626
    },
    "executionInfo": {
     "elapsed": 37754,
     "status": "ok",
     "timestamp": 1611513387795,
     "user": {
      "displayName": "19UCS088 Anubhab Ray",
      "photoUrl": "https://lh3.googleusercontent.com/a-/AOh14Ghy9a36Pwyp7YMi9lk-kCpbg42BwrNcNGrpjhgA=s64",
      "userId": "15438570458772171491"
     },
     "user_tz": -330
    },
    "id": "2fKBrE3gmtuC",
    "outputId": "73a7e886-07c6-4796-9d85-45ac1e6b94ad"
   },
   "outputs": [],
   "source": [
    "\n",
    "plt.hist(df8.bath,rwidth=0.8)\n",
    "plt.xlabel(\"Number of bathrooms\")\n",
    "plt.ylabel(\"Count\")"
   ]
  },
  {
   "cell_type": "code",
   "execution_count": null,
   "metadata": {
    "colab": {
     "base_uri": "https://localhost:8080/",
     "height": 166
    },
    "executionInfo": {
     "elapsed": 37753,
     "status": "ok",
     "timestamp": 1611513387796,
     "user": {
      "displayName": "19UCS088 Anubhab Ray",
      "photoUrl": "https://lh3.googleusercontent.com/a-/AOh14Ghy9a36Pwyp7YMi9lk-kCpbg42BwrNcNGrpjhgA=s64",
      "userId": "15438570458772171491"
     },
     "user_tz": -330
    },
    "id": "zATt_4xlmtuC",
    "outputId": "7b07f118-73be-4c5c-da7b-9b35160de66b"
   },
   "outputs": [],
   "source": [
    "df8[df8.bath>df8.bhk+2]"
   ]
  },
  {
   "cell_type": "code",
   "execution_count": null,
   "metadata": {
    "colab": {
     "base_uri": "https://localhost:8080/"
    },
    "executionInfo": {
     "elapsed": 37753,
     "status": "ok",
     "timestamp": 1611513387797,
     "user": {
      "displayName": "19UCS088 Anubhab Ray",
      "photoUrl": "https://lh3.googleusercontent.com/a-/AOh14Ghy9a36Pwyp7YMi9lk-kCpbg42BwrNcNGrpjhgA=s64",
      "userId": "15438570458772171491"
     },
     "user_tz": -330
    },
    "id": "sejGENlJmtuD",
    "outputId": "8dabf888-2ba2-48f2-e838-874ccef5063f"
   },
   "outputs": [],
   "source": [
    "df9 = df8[df8.bath<df8.bhk+2]\n",
    "df9.shape"
   ]
  },
  {
   "cell_type": "code",
   "execution_count": null,
   "metadata": {
    "executionInfo": {
     "elapsed": 37752,
     "status": "ok",
     "timestamp": 1611513387797,
     "user": {
      "displayName": "19UCS088 Anubhab Ray",
      "photoUrl": "https://lh3.googleusercontent.com/a-/AOh14Ghy9a36Pwyp7YMi9lk-kCpbg42BwrNcNGrpjhgA=s64",
      "userId": "15438570458772171491"
     },
     "user_tz": -330
    },
    "id": "nR1V01WLmtuD"
   },
   "outputs": [],
   "source": [
    "df10 = df9.drop(['size','price_per_sqft'],axis='columns')"
   ]
  },
  {
   "cell_type": "code",
   "execution_count": null,
   "metadata": {
    "colab": {
     "base_uri": "https://localhost:8080/"
    },
    "executionInfo": {
     "elapsed": 37751,
     "status": "ok",
     "timestamp": 1611513387798,
     "user": {
      "displayName": "19UCS088 Anubhab Ray",
      "photoUrl": "https://lh3.googleusercontent.com/a-/AOh14Ghy9a36Pwyp7YMi9lk-kCpbg42BwrNcNGrpjhgA=s64",
      "userId": "15438570458772171491"
     },
     "user_tz": -330
    },
    "id": "tcVyUMetmtuD",
    "outputId": "9fcb7dad-498b-4ffb-ab37-4cf4d22b7151"
   },
   "outputs": [],
   "source": [
    "df10.shape"
   ]
  },
  {
   "cell_type": "markdown",
   "metadata": {
    "id": "QZgcBzWqmtuD"
   },
   "source": [
    " Undergoing one hot encoding/dummy method to convert the location column which is a categorical feature into numberts"
   ]
  },
  {
   "cell_type": "code",
   "execution_count": null,
   "metadata": {
    "colab": {
     "base_uri": "https://localhost:8080/",
     "height": 531
    },
    "executionInfo": {
     "elapsed": 37751,
     "status": "ok",
     "timestamp": 1611513387799,
     "user": {
      "displayName": "19UCS088 Anubhab Ray",
      "photoUrl": "https://lh3.googleusercontent.com/a-/AOh14Ghy9a36Pwyp7YMi9lk-kCpbg42BwrNcNGrpjhgA=s64",
      "userId": "15438570458772171491"
     },
     "user_tz": -330
    },
    "id": "UjZfsBZfmtuD",
    "outputId": "a2dd5fe1-9373-4cd6-aacd-95bad29e39e3"
   },
   "outputs": [],
   "source": [
    "##For each of the locations it will create a new column\n",
    "dummies = pd.get_dummies(df10['location'])\n",
    "dummies.head(13)"
   ]
  },
  {
   "cell_type": "code",
   "execution_count": null,
   "metadata": {
    "colab": {
     "base_uri": "https://localhost:8080/",
     "height": 286
    },
    "executionInfo": {
     "elapsed": 38154,
     "status": "ok",
     "timestamp": 1611513388203,
     "user": {
      "displayName": "19UCS088 Anubhab Ray",
      "photoUrl": "https://lh3.googleusercontent.com/a-/AOh14Ghy9a36Pwyp7YMi9lk-kCpbg42BwrNcNGrpjhgA=s64",
      "userId": "15438570458772171491"
     },
     "user_tz": -330
    },
    "id": "S8qJcqWrmtuE",
    "outputId": "26956970-b592-4c53-9d2f-54aae44eadb0"
   },
   "outputs": [],
   "source": [
    "##Concatinating the two data frames dummies and df10 along columns and removing one column in order to avoid dummy variable trap\n",
    "df11 = pd.concat([df10,dummies.drop('other',axis='columns')],axis='columns')\n",
    "df11.head(3)"
   ]
  },
  {
   "cell_type": "code",
   "execution_count": null,
   "metadata": {
    "colab": {
     "base_uri": "https://localhost:8080/"
    },
    "executionInfo": {
     "elapsed": 38152,
     "status": "ok",
     "timestamp": 1611513388203,
     "user": {
      "displayName": "19UCS088 Anubhab Ray",
      "photoUrl": "https://lh3.googleusercontent.com/a-/AOh14Ghy9a36Pwyp7YMi9lk-kCpbg42BwrNcNGrpjhgA=s64",
      "userId": "15438570458772171491"
     },
     "user_tz": -330
    },
    "id": "6PGsXDFPmtuE",
    "outputId": "4fd4e5c9-f21c-4be4-a740-03df8808e1ee"
   },
   "outputs": [],
   "source": [
    "df12=df11.drop('location',axis = 'columns')\n",
    "df12.shape"
   ]
  },
  {
   "cell_type": "code",
   "execution_count": null,
   "metadata": {
    "colab": {
     "base_uri": "https://localhost:8080/",
     "height": 294
    },
    "executionInfo": {
     "elapsed": 38152,
     "status": "ok",
     "timestamp": 1611513388204,
     "user": {
      "displayName": "19UCS088 Anubhab Ray",
      "photoUrl": "https://lh3.googleusercontent.com/a-/AOh14Ghy9a36Pwyp7YMi9lk-kCpbg42BwrNcNGrpjhgA=s64",
      "userId": "15438570458772171491"
     },
     "user_tz": -330
    },
    "id": "gopbcVHFmtuE",
    "outputId": "d541e673-9cf1-4e54-e0d0-7327e243d32e"
   },
   "outputs": [],
   "source": [
    "##Dropping dependent variable from the data frame\n",
    "X = df12.drop('price',axis = 'columns')\n",
    "X.head()"
   ]
  },
  {
   "cell_type": "code",
   "execution_count": null,
   "metadata": {
    "colab": {
     "base_uri": "https://localhost:8080/"
    },
    "executionInfo": {
     "elapsed": 38152,
     "status": "ok",
     "timestamp": 1611513388205,
     "user": {
      "displayName": "19UCS088 Anubhab Ray",
      "photoUrl": "https://lh3.googleusercontent.com/a-/AOh14Ghy9a36Pwyp7YMi9lk-kCpbg42BwrNcNGrpjhgA=s64",
      "userId": "15438570458772171491"
     },
     "user_tz": -330
    },
    "id": "MZlcyEX2mtuE",
    "outputId": "6c72ce30-b907-4087-d567-61954645f6d9"
   },
   "outputs": [],
   "source": [
    "y = df12['price']\n",
    "y.head(3)"
   ]
  },
  {
   "cell_type": "code",
   "execution_count": null,
   "metadata": {
    "executionInfo": {
     "elapsed": 39357,
     "status": "ok",
     "timestamp": 1611513389412,
     "user": {
      "displayName": "19UCS088 Anubhab Ray",
      "photoUrl": "https://lh3.googleusercontent.com/a-/AOh14Ghy9a36Pwyp7YMi9lk-kCpbg42BwrNcNGrpjhgA=s64",
      "userId": "15438570458772171491"
     },
     "user_tz": -330
    },
    "id": "6FL1z77TmtuE"
   },
   "outputs": [],
   "source": [
    "from sklearn.model_selection import train_test_split\n",
    "X_train, X_test, y_train, y_test = train_test_split(X,y,test_size=0.2,random_state=10)"
   ]
  },
  {
   "cell_type": "code",
   "execution_count": null,
   "metadata": {
    "colab": {
     "base_uri": "https://localhost:8080/"
    },
    "executionInfo": {
     "elapsed": 39359,
     "status": "ok",
     "timestamp": 1611513389415,
     "user": {
      "displayName": "19UCS088 Anubhab Ray",
      "photoUrl": "https://lh3.googleusercontent.com/a-/AOh14Ghy9a36Pwyp7YMi9lk-kCpbg42BwrNcNGrpjhgA=s64",
      "userId": "15438570458772171491"
     },
     "user_tz": -330
    },
    "id": "4s6WV5C_mtuF",
    "outputId": "a0b1621b-7846-45ff-b7fe-c5a31b1db79c"
   },
   "outputs": [],
   "source": [
    "from sklearn.linear_model import LinearRegression\n",
    "lr_clf = LinearRegression()\n",
    "lr_clf.fit(X_train,y_train)\n",
    "lr_clf.score(X_test,y_test)"
   ]
  },
  {
   "cell_type": "code",
   "execution_count": null,
   "metadata": {
    "colab": {
     "base_uri": "https://localhost:8080/"
    },
    "executionInfo": {
     "elapsed": 39358,
     "status": "ok",
     "timestamp": 1611513389415,
     "user": {
      "displayName": "19UCS088 Anubhab Ray",
      "photoUrl": "https://lh3.googleusercontent.com/a-/AOh14Ghy9a36Pwyp7YMi9lk-kCpbg42BwrNcNGrpjhgA=s64",
      "userId": "15438570458772171491"
     },
     "user_tz": -330
    },
    "id": "49d60wctmtuF",
    "outputId": "ec309d9d-4516-4a70-b8fd-24a89973b8f9"
   },
   "outputs": [],
   "source": [
    "df12.shape"
   ]
  },
  {
   "cell_type": "code",
   "execution_count": null,
   "metadata": {
    "colab": {
     "base_uri": "https://localhost:8080/"
    },
    "executionInfo": {
     "elapsed": 39356,
     "status": "ok",
     "timestamp": 1611513389415,
     "user": {
      "displayName": "19UCS088 Anubhab Ray",
      "photoUrl": "https://lh3.googleusercontent.com/a-/AOh14Ghy9a36Pwyp7YMi9lk-kCpbg42BwrNcNGrpjhgA=s64",
      "userId": "15438570458772171491"
     },
     "user_tz": -330
    },
    "id": "hOG89yiNmtuF",
    "outputId": "f5c5300b-68c0-44f2-ab9d-f1a366bd6766"
   },
   "outputs": [],
   "source": [
    "X.shape"
   ]
  },
  {
   "cell_type": "code",
   "execution_count": null,
   "metadata": {
    "colab": {
     "base_uri": "https://localhost:8080/"
    },
    "executionInfo": {
     "elapsed": 39356,
     "status": "ok",
     "timestamp": 1611513389416,
     "user": {
      "displayName": "19UCS088 Anubhab Ray",
      "photoUrl": "https://lh3.googleusercontent.com/a-/AOh14Ghy9a36Pwyp7YMi9lk-kCpbg42BwrNcNGrpjhgA=s64",
      "userId": "15438570458772171491"
     },
     "user_tz": -330
    },
    "id": "WTDGOBHmmtuF",
    "outputId": "106254d5-d279-4ff6-d0b0-604d25fc927f"
   },
   "outputs": [],
   "source": [
    "y.shape"
   ]
  },
  {
   "cell_type": "code",
   "execution_count": null,
   "metadata": {
    "executionInfo": {
     "elapsed": 1404,
     "status": "ok",
     "timestamp": 1611516720201,
     "user": {
      "displayName": "19UCS088 Anubhab Ray",
      "photoUrl": "https://lh3.googleusercontent.com/a-/AOh14Ghy9a36Pwyp7YMi9lk-kCpbg42BwrNcNGrpjhgA=s64",
      "userId": "15438570458772171491"
     },
     "user_tz": -330
    },
    "id": "P1nxJQaWmtuF"
   },
   "outputs": [],
   "source": [
    "##Use K Fold cross validation to measure accuracy of our LinearRegression model"
   ]
  },
  {
   "cell_type": "code",
   "execution_count": null,
   "metadata": {
    "colab": {
     "base_uri": "https://localhost:8080/"
    },
    "executionInfo": {
     "elapsed": 1530,
     "status": "ok",
     "timestamp": 1611516923276,
     "user": {
      "displayName": "19UCS088 Anubhab Ray",
      "photoUrl": "https://lh3.googleusercontent.com/a-/AOh14Ghy9a36Pwyp7YMi9lk-kCpbg42BwrNcNGrpjhgA=s64",
      "userId": "15438570458772171491"
     },
     "user_tz": -330
    },
    "id": "reDnt7Aw4a6I",
    "outputId": "e2d14928-2462-4c42-d5e7-1fd2b812b3cf"
   },
   "outputs": [],
   "source": [
    "from sklearn.model_selection import ShuffleSplit\n",
    "from sklearn.model_selection import cross_val_score\n",
    "\n",
    "cv = ShuffleSplit(n_splits=5, test_size=0.2, random_state=0)\n",
    "\n",
    "cross_val_score(LinearRegression(), X, y, cv=cv)"
   ]
  },
  {
   "cell_type": "code",
   "execution_count": null,
   "metadata": {
    "executionInfo": {
     "elapsed": 1316,
     "status": "ok",
     "timestamp": 1611517046723,
     "user": {
      "displayName": "19UCS088 Anubhab Ray",
      "photoUrl": "https://lh3.googleusercontent.com/a-/AOh14Ghy9a36Pwyp7YMi9lk-kCpbg42BwrNcNGrpjhgA=s64",
      "userId": "15438570458772171491"
     },
     "user_tz": -330
    },
    "id": "i36UmRDX5Mdg"
   },
   "outputs": [],
   "source": [
    "##Find best algorithm for our data set using GridSearchCV"
   ]
  },
  {
   "cell_type": "code",
   "execution_count": null,
   "metadata": {
    "colab": {
     "base_uri": "https://localhost:8080/",
     "height": 136
    },
    "executionInfo": {
     "elapsed": 7030,
     "status": "ok",
     "timestamp": 1611517690224,
     "user": {
      "displayName": "19UCS088 Anubhab Ray",
      "photoUrl": "https://lh3.googleusercontent.com/a-/AOh14Ghy9a36Pwyp7YMi9lk-kCpbg42BwrNcNGrpjhgA=s64",
      "userId": "15438570458772171491"
     },
     "user_tz": -330
    },
    "id": "kGxI2hLl5qp3",
    "outputId": "e7081df7-03a8-4da2-ed7f-a6a3d67a581c"
   },
   "outputs": [],
   "source": [
    "from sklearn.model_selection import GridSearchCV\n",
    "\n",
    "from sklearn.linear_model import Lasso\n",
    "from sklearn.tree import DecisionTreeRegressor\n",
    "\n",
    "def find_best_model_using_gridsearchcv(X,y):\n",
    "    algos = {\n",
    "        'linear_regression' : {\n",
    "            'model': LinearRegression(),\n",
    "            'params': {\n",
    "                'normalize': [True, False]\n",
    "            }\n",
    "        },\n",
    "        'lasso': {\n",
    "            'model': Lasso(),\n",
    "            'params': {\n",
    "                'alpha': [1,2],\n",
    "                'selection': ['random', 'cyclic']\n",
    "            }\n",
    "        },\n",
    "        'decision_tree': {\n",
    "            'model': DecisionTreeRegressor(),\n",
    "            'params': {\n",
    "                'criterion' : ['mse','friedman_mse'],\n",
    "                'splitter': ['best','random']\n",
    "            }\n",
    "        }\n",
    "    }\n",
    "    scores = []\n",
    "    cv = ShuffleSplit(n_splits=5, test_size=0.2, random_state=0)\n",
    "    for algo_name, config in algos.items():\n",
    "        gs =  GridSearchCV(config['model'], config['params'], cv=cv, return_train_score=False)\n",
    "        gs.fit(X,y)\n",
    "        scores.append({\n",
    "            'model': algo_name,\n",
    "            'best_score': gs.best_score_,\n",
    "            'best_params': gs.best_params_\n",
    "        })\n",
    "\n",
    "    return pd.DataFrame(scores,columns=['model','best_score','best_params'])\n",
    "\n",
    "find_best_model_using_gridsearchcv(X,y)"
   ]
  },
  {
   "cell_type": "code",
   "execution_count": null,
   "metadata": {
    "executionInfo": {
     "elapsed": 1088,
     "status": "ok",
     "timestamp": 1611517993935,
     "user": {
      "displayName": "19UCS088 Anubhab Ray",
      "photoUrl": "https://lh3.googleusercontent.com/a-/AOh14Ghy9a36Pwyp7YMi9lk-kCpbg42BwrNcNGrpjhgA=s64",
      "userId": "15438570458772171491"
     },
     "user_tz": -330
    },
    "id": "oVNM79GI8GW6"
   },
   "outputs": [],
   "source": [
    "##Test the model for few properties"
   ]
  },
  {
   "cell_type": "code",
   "execution_count": null,
   "metadata": {
    "executionInfo": {
     "elapsed": 1162,
     "status": "ok",
     "timestamp": 1611518433435,
     "user": {
      "displayName": "19UCS088 Anubhab Ray",
      "photoUrl": "https://lh3.googleusercontent.com/a-/AOh14Ghy9a36Pwyp7YMi9lk-kCpbg42BwrNcNGrpjhgA=s64",
      "userId": "15438570458772171491"
     },
     "user_tz": -330
    },
    "id": "grE3TPOG9R9h"
   },
   "outputs": [],
   "source": [
    "def predict_price(location,sqft,bath,bhk):    \n",
    "    loc_index = np.where(X.columns==location)[0][0]\n",
    "\n",
    "    x = np.zeros(len(X.columns))\n",
    "    x[0] = sqft\n",
    "    x[1] = bath\n",
    "    x[2] = bhk\n",
    "    if loc_index >= 0:\n",
    "        x[loc_index] = 1\n",
    "\n",
    "    return lr_clf.predict([x])[0]"
   ]
  },
  {
   "cell_type": "code",
   "execution_count": null,
   "metadata": {
    "colab": {
     "base_uri": "https://localhost:8080/"
    },
    "executionInfo": {
     "elapsed": 1092,
     "status": "ok",
     "timestamp": 1611518508935,
     "user": {
      "displayName": "19UCS088 Anubhab Ray",
      "photoUrl": "https://lh3.googleusercontent.com/a-/AOh14Ghy9a36Pwyp7YMi9lk-kCpbg42BwrNcNGrpjhgA=s64",
      "userId": "15438570458772171491"
     },
     "user_tz": -330
    },
    "id": "oAgXE7W_-9Ph",
    "outputId": "b8aa0d3e-d7c0-4c4d-839c-169040fda7de"
   },
   "outputs": [],
   "source": [
    "predict_price(\"Indira Nagar\",1000,3,3)"
   ]
  },
  {
   "cell_type": "code",
   "execution_count": null,
   "metadata": {
    "executionInfo": {
     "elapsed": 1084,
     "status": "ok",
     "timestamp": 1611518614918,
     "user": {
      "displayName": "19UCS088 Anubhab Ray",
      "photoUrl": "https://lh3.googleusercontent.com/a-/AOh14Ghy9a36Pwyp7YMi9lk-kCpbg42BwrNcNGrpjhgA=s64",
      "userId": "15438570458772171491"
     },
     "user_tz": -330
    },
    "id": "xuNnA6M6_PsS"
   },
   "outputs": [],
   "source": [
    "##Export the tested model to a pickle file and it will be used by flask server"
   ]
  },
  {
   "cell_type": "code",
   "execution_count": null,
   "metadata": {
    "executionInfo": {
     "elapsed": 1107,
     "status": "ok",
     "timestamp": 1611518692679,
     "user": {
      "displayName": "19UCS088 Anubhab Ray",
      "photoUrl": "https://lh3.googleusercontent.com/a-/AOh14Ghy9a36Pwyp7YMi9lk-kCpbg42BwrNcNGrpjhgA=s64",
      "userId": "15438570458772171491"
     },
     "user_tz": -330
    },
    "id": "srXiiOqP_pki"
   },
   "outputs": [],
   "source": [
    "import pickle\n",
    "with open('banglore_home_prices_model.pickle','wb') as f:\n",
    "    pickle.dump(lr_clf,f)"
   ]
  },
  {
   "cell_type": "code",
   "execution_count": null,
   "metadata": {
    "executionInfo": {
     "elapsed": 1130,
     "status": "ok",
     "timestamp": 1611518812251,
     "user": {
      "displayName": "19UCS088 Anubhab Ray",
      "photoUrl": "https://lh3.googleusercontent.com/a-/AOh14Ghy9a36Pwyp7YMi9lk-kCpbg42BwrNcNGrpjhgA=s64",
      "userId": "15438570458772171491"
     },
     "user_tz": -330
    },
    "id": "VyUDCYO2_8jC"
   },
   "outputs": [],
   "source": [
    "##Export location and column information to a file that will be useful later on in our prediction application"
   ]
  },
  {
   "cell_type": "code",
   "execution_count": null,
   "metadata": {
    "executionInfo": {
     "elapsed": 1270,
     "status": "ok",
     "timestamp": 1611518828342,
     "user": {
      "displayName": "19UCS088 Anubhab Ray",
      "photoUrl": "https://lh3.googleusercontent.com/a-/AOh14Ghy9a36Pwyp7YMi9lk-kCpbg42BwrNcNGrpjhgA=s64",
      "userId": "15438570458772171491"
     },
     "user_tz": -330
    },
    "id": "SRqjQQxrAYHC"
   },
   "outputs": [],
   "source": [
    "import json\n",
    "columns = {\n",
    "    'data_columns' : [col.lower() for col in X.columns]\n",
    "}\n",
    "with open(\"columns.json\",\"w\") as f:\n",
    "    f.write(json.dumps(columns))"
   ]
  },
  {
   "cell_type": "code",
   "execution_count": null,
   "metadata": {
    "id": "i5NA81NLAdoK"
   },
   "outputs": [],
   "source": []
  }
 ],
 "metadata": {
  "colab": {
   "collapsed_sections": [],
   "name": "Blr Housing price prediction .ipynb",
   "provenance": []
  },
  "kernelspec": {
   "display_name": "Python 3",
   "language": "python",
   "name": "python3"
  },
  "language_info": {
   "codemirror_mode": {
    "name": "ipython",
    "version": 3
   },
   "file_extension": ".py",
   "mimetype": "text/x-python",
   "name": "python",
   "nbconvert_exporter": "python",
   "pygments_lexer": "ipython3",
   "version": "3.8.5"
  }
 },
 "nbformat": 4,
 "nbformat_minor": 1
}
